{
 "cells": [
  {
   "cell_type": "markdown",
   "id": "e385a051",
   "metadata": {},
   "source": [
    "## 🚀 Initialization"
   ]
  },
  {
   "cell_type": "code",
   "execution_count": 1,
   "id": "94cc1172",
   "metadata": {},
   "outputs": [],
   "source": [
    "import numpy as np\n",
    "import pandas as pd\n",
    "from mlfluids import Fluid, set_refprop_path\n",
    "\n",
    "set_refprop_path(\"/home/braun/Documents/Developer/REFPROP10\")"
   ]
  },
  {
   "cell_type": "markdown",
   "id": "636b75e8",
   "metadata": {},
   "source": [
    "## ⚙️ Parameters"
   ]
  },
  {
   "cell_type": "code",
   "execution_count": 2,
   "id": "8ebaf94c",
   "metadata": {},
   "outputs": [],
   "source": [
    "MIXTURE = \"CO2&H2S\"\n",
    "\n",
    "PHASE = \"supercritical\"\n",
    "PROPS = [\"P*\", \"T*\", \"VIS*\", \"TCX*\"]"
   ]
  },
  {
   "cell_type": "code",
   "execution_count": 3,
   "id": "06815656",
   "metadata": {},
   "outputs": [],
   "source": [
    "fluid = Fluid(MIXTURE)\n",
    "\n",
    "Xpoints = 5\n",
    "\n",
    "Tmin = 1.1\n",
    "Tmax = 5.0\n",
    "Tpoints = 5\n",
    "\n",
    "Pmin = 1.1\n",
    "Pmax = 10.0\n",
    "Ppoints = 5"
   ]
  },
  {
   "cell_type": "markdown",
   "id": "ca74fd7d",
   "metadata": {},
   "source": [
    "## 🧪 Data preparation"
   ]
  },
  {
   "cell_type": "code",
   "execution_count": 4,
   "id": "4076e7c0",
   "metadata": {},
   "outputs": [],
   "source": [
    "X = np.linspace(0, 1, Xpoints + 1, endpoint=False)[1:]\n",
    "\n",
    "Pr = np.geomspace(Pmin, Pmax, Ppoints)\n",
    "Tr = np.geomspace(Tmin, Tmax, Tpoints)\n",
    "\n",
    "PrTr = np.stack(np.meshgrid(Pr, Tr, indexing=\"ij\"), axis=-1).reshape(-1, 2)"
   ]
  },
  {
   "cell_type": "code",
   "execution_count": 5,
   "id": "02dde01a",
   "metadata": {},
   "outputs": [],
   "source": [
    "norm_fluid = Fluid(MIXTURE)\n",
    "\n",
    "\n",
    "def calc_props_X(Xv: float) -> pd.DataFrame:\n",
    "    # SETUP: NORMALIZING FLUID\n",
    "    norm_fluid.set_mole_fractions([Xv, 1 - Xv])\n",
    "    norm_fluid.set_state_critical()\n",
    "    Fluid.set_normalizing_fluid(norm_fluid)\n",
    "\n",
    "    # SETUP: FLUID\n",
    "    fluid.set_mole_fractions([Xv, 1 - Xv])\n",
    "    fluid._D = norm_fluid.rhomolar_critical()\n",
    "    if PHASE:\n",
    "        fluid.specify_phase(PHASE)\n",
    "\n",
    "    # PARAMETER CALCULATION\n",
    "    props_data = fluid.calc_states_props(\"P*\", \"T*\", PrTr, PROPS, log_errors=False)\n",
    "\n",
    "    return pd.DataFrame(props_data, columns=PROPS)\n",
    "\n",
    "\n",
    "data = pd.concat([calc_props_X(Xv) for Xv in X], ignore_index=True)"
   ]
  },
  {
   "cell_type": "code",
   "execution_count": 6,
   "id": "5fe33eeb",
   "metadata": {},
   "outputs": [
    {
     "data": {
      "text/html": [
       "<div>\n",
       "<style scoped>\n",
       "    .dataframe tbody tr th:only-of-type {\n",
       "        vertical-align: middle;\n",
       "    }\n",
       "\n",
       "    .dataframe tbody tr th {\n",
       "        vertical-align: top;\n",
       "    }\n",
       "\n",
       "    .dataframe thead th {\n",
       "        text-align: right;\n",
       "    }\n",
       "</style>\n",
       "<table border=\"1\" class=\"dataframe\">\n",
       "  <thead>\n",
       "    <tr style=\"text-align: right;\">\n",
       "      <th></th>\n",
       "      <th>P*</th>\n",
       "      <th>T*</th>\n",
       "      <th>VIS*</th>\n",
       "      <th>TCX*</th>\n",
       "    </tr>\n",
       "  </thead>\n",
       "  <tbody>\n",
       "    <tr>\n",
       "      <th>0</th>\n",
       "      <td>1.100000</td>\n",
       "      <td>1.100000</td>\n",
       "      <td>0.610580</td>\n",
       "      <td>0.427911</td>\n",
       "    </tr>\n",
       "    <tr>\n",
       "      <th>1</th>\n",
       "      <td>1.100000</td>\n",
       "      <td>1.606153</td>\n",
       "      <td>0.769647</td>\n",
       "      <td>0.491798</td>\n",
       "    </tr>\n",
       "    <tr>\n",
       "      <th>2</th>\n",
       "      <td>1.100000</td>\n",
       "      <td>2.345208</td>\n",
       "      <td>1.069969</td>\n",
       "      <td>0.742089</td>\n",
       "    </tr>\n",
       "    <tr>\n",
       "      <th>3</th>\n",
       "      <td>1.100000</td>\n",
       "      <td>3.424331</td>\n",
       "      <td>1.480506</td>\n",
       "      <td>1.093669</td>\n",
       "    </tr>\n",
       "    <tr>\n",
       "      <th>4</th>\n",
       "      <td>1.100000</td>\n",
       "      <td>5.000000</td>\n",
       "      <td>2.021505</td>\n",
       "      <td>1.427912</td>\n",
       "    </tr>\n",
       "    <tr>\n",
       "      <th>...</th>\n",
       "      <td>...</td>\n",
       "      <td>...</td>\n",
       "      <td>...</td>\n",
       "      <td>...</td>\n",
       "    </tr>\n",
       "    <tr>\n",
       "      <th>115</th>\n",
       "      <td>5.759014</td>\n",
       "      <td>5.000000</td>\n",
       "      <td>1.816000</td>\n",
       "      <td>1.278934</td>\n",
       "    </tr>\n",
       "    <tr>\n",
       "      <th>116</th>\n",
       "      <td>10.000000</td>\n",
       "      <td>1.606153</td>\n",
       "      <td>1.927422</td>\n",
       "      <td>0.885507</td>\n",
       "    </tr>\n",
       "    <tr>\n",
       "      <th>117</th>\n",
       "      <td>10.000000</td>\n",
       "      <td>2.345208</td>\n",
       "      <td>1.500354</td>\n",
       "      <td>0.803518</td>\n",
       "    </tr>\n",
       "    <tr>\n",
       "      <th>118</th>\n",
       "      <td>10.000000</td>\n",
       "      <td>3.424331</td>\n",
       "      <td>1.575452</td>\n",
       "      <td>0.966583</td>\n",
       "    </tr>\n",
       "    <tr>\n",
       "      <th>119</th>\n",
       "      <td>10.000000</td>\n",
       "      <td>5.000000</td>\n",
       "      <td>1.875902</td>\n",
       "      <td>1.287957</td>\n",
       "    </tr>\n",
       "  </tbody>\n",
       "</table>\n",
       "<p>120 rows × 4 columns</p>\n",
       "</div>"
      ],
      "text/plain": [
       "            P*        T*      VIS*      TCX*\n",
       "0     1.100000  1.100000  0.610580  0.427911\n",
       "1     1.100000  1.606153  0.769647  0.491798\n",
       "2     1.100000  2.345208  1.069969  0.742089\n",
       "3     1.100000  3.424331  1.480506  1.093669\n",
       "4     1.100000  5.000000  2.021505  1.427912\n",
       "..         ...       ...       ...       ...\n",
       "115   5.759014  5.000000  1.816000  1.278934\n",
       "116  10.000000  1.606153  1.927422  0.885507\n",
       "117  10.000000  2.345208  1.500354  0.803518\n",
       "118  10.000000  3.424331  1.575452  0.966583\n",
       "119  10.000000  5.000000  1.875902  1.287957\n",
       "\n",
       "[120 rows x 4 columns]"
      ]
     },
     "metadata": {},
     "output_type": "display_data"
    }
   ],
   "source": [
    "display(data)"
   ]
  },
  {
   "cell_type": "markdown",
   "id": "77ac3906",
   "metadata": {},
   "source": [
    "## 🤖 Model Training"
   ]
  },
  {
   "cell_type": "code",
   "execution_count": 7,
   "id": "85d7be4c",
   "metadata": {},
   "outputs": [
    {
     "data": {
      "text/html": [],
      "text/plain": [
       "<IPython.core.display.HTML object>"
      ]
     },
     "metadata": {},
     "output_type": "display_data"
    },
    {
     "data": {
      "text/html": [
       "<style type=\"text/css\">\n",
       "#T_12871 th {\n",
       "  text-align: left;\n",
       "}\n",
       "#T_12871_row0_col0, #T_12871_row0_col2, #T_12871_row1_col0, #T_12871_row1_col1, #T_12871_row1_col3, #T_12871_row1_col4, #T_12871_row1_col5, #T_12871_row1_col6, #T_12871_row2_col0, #T_12871_row2_col1, #T_12871_row2_col2, #T_12871_row2_col3, #T_12871_row2_col4, #T_12871_row2_col5, #T_12871_row2_col6, #T_12871_row3_col0, #T_12871_row3_col1, #T_12871_row3_col2, #T_12871_row3_col3, #T_12871_row3_col4, #T_12871_row3_col5, #T_12871_row3_col6, #T_12871_row4_col0, #T_12871_row4_col1, #T_12871_row4_col2, #T_12871_row4_col3, #T_12871_row4_col4, #T_12871_row4_col5, #T_12871_row4_col6, #T_12871_row5_col0, #T_12871_row5_col1, #T_12871_row5_col2, #T_12871_row5_col3, #T_12871_row5_col4, #T_12871_row5_col5, #T_12871_row5_col6, #T_12871_row6_col0, #T_12871_row6_col1, #T_12871_row6_col2, #T_12871_row6_col3, #T_12871_row6_col4, #T_12871_row6_col5, #T_12871_row6_col6, #T_12871_row7_col0, #T_12871_row7_col1, #T_12871_row7_col2, #T_12871_row7_col3, #T_12871_row7_col4, #T_12871_row7_col5, #T_12871_row7_col6, #T_12871_row8_col0, #T_12871_row8_col1, #T_12871_row8_col2, #T_12871_row8_col3, #T_12871_row8_col4, #T_12871_row8_col5, #T_12871_row8_col6, #T_12871_row9_col0, #T_12871_row9_col1, #T_12871_row9_col2, #T_12871_row9_col3, #T_12871_row9_col4, #T_12871_row9_col5, #T_12871_row9_col6, #T_12871_row10_col0, #T_12871_row10_col1, #T_12871_row10_col2, #T_12871_row10_col3, #T_12871_row10_col4, #T_12871_row10_col5, #T_12871_row10_col6, #T_12871_row11_col0, #T_12871_row11_col1, #T_12871_row11_col2, #T_12871_row11_col3, #T_12871_row11_col4, #T_12871_row11_col5, #T_12871_row11_col6, #T_12871_row12_col0, #T_12871_row12_col1, #T_12871_row12_col2, #T_12871_row12_col3, #T_12871_row12_col4, #T_12871_row12_col5, #T_12871_row12_col6, #T_12871_row13_col0, #T_12871_row13_col1, #T_12871_row13_col2, #T_12871_row13_col3, #T_12871_row13_col4, #T_12871_row13_col5, #T_12871_row13_col6, #T_12871_row14_col0, #T_12871_row14_col1, #T_12871_row14_col2, #T_12871_row14_col3, #T_12871_row14_col4, #T_12871_row14_col5, #T_12871_row14_col6, #T_12871_row15_col0, #T_12871_row15_col1, #T_12871_row15_col2, #T_12871_row15_col3, #T_12871_row15_col4, #T_12871_row15_col5, #T_12871_row15_col6, #T_12871_row16_col0, #T_12871_row16_col1, #T_12871_row16_col2, #T_12871_row16_col3, #T_12871_row16_col4, #T_12871_row16_col5, #T_12871_row16_col6, #T_12871_row17_col0, #T_12871_row17_col1, #T_12871_row17_col2, #T_12871_row17_col3, #T_12871_row17_col4, #T_12871_row17_col5, #T_12871_row17_col6 {\n",
       "  text-align: left;\n",
       "}\n",
       "#T_12871_row0_col1, #T_12871_row0_col3, #T_12871_row0_col4, #T_12871_row0_col5, #T_12871_row0_col6, #T_12871_row1_col2 {\n",
       "  text-align: left;\n",
       "  background-color: yellow;\n",
       "}\n",
       "#T_12871_row0_col7, #T_12871_row1_col7, #T_12871_row3_col7, #T_12871_row4_col7, #T_12871_row5_col7, #T_12871_row6_col7, #T_12871_row7_col7, #T_12871_row8_col7, #T_12871_row10_col7, #T_12871_row11_col7, #T_12871_row12_col7, #T_12871_row13_col7, #T_12871_row14_col7, #T_12871_row16_col7, #T_12871_row17_col7 {\n",
       "  text-align: left;\n",
       "  background-color: lightgrey;\n",
       "}\n",
       "#T_12871_row2_col7, #T_12871_row9_col7, #T_12871_row15_col7 {\n",
       "  text-align: left;\n",
       "  background-color: yellow;\n",
       "  background-color: lightgrey;\n",
       "}\n",
       "</style>\n",
       "<table id=\"T_12871\">\n",
       "  <thead>\n",
       "    <tr>\n",
       "      <th class=\"blank level0\" >&nbsp;</th>\n",
       "      <th id=\"T_12871_level0_col0\" class=\"col_heading level0 col0\" >Model</th>\n",
       "      <th id=\"T_12871_level0_col1\" class=\"col_heading level0 col1\" >MAE</th>\n",
       "      <th id=\"T_12871_level0_col2\" class=\"col_heading level0 col2\" >MSE</th>\n",
       "      <th id=\"T_12871_level0_col3\" class=\"col_heading level0 col3\" >RMSE</th>\n",
       "      <th id=\"T_12871_level0_col4\" class=\"col_heading level0 col4\" >R2</th>\n",
       "      <th id=\"T_12871_level0_col5\" class=\"col_heading level0 col5\" >RMSLE</th>\n",
       "      <th id=\"T_12871_level0_col6\" class=\"col_heading level0 col6\" >MAPE</th>\n",
       "      <th id=\"T_12871_level0_col7\" class=\"col_heading level0 col7\" >TT (Sec)</th>\n",
       "    </tr>\n",
       "  </thead>\n",
       "  <tbody>\n",
       "    <tr>\n",
       "      <th id=\"T_12871_level0_row0\" class=\"row_heading level0 row0\" >et</th>\n",
       "      <td id=\"T_12871_row0_col0\" class=\"data row0 col0\" >Extra Trees Regressor</td>\n",
       "      <td id=\"T_12871_row0_col1\" class=\"data row0 col1\" >0.0383002998</td>\n",
       "      <td id=\"T_12871_row0_col2\" class=\"data row0 col2\" >0.0039643256</td>\n",
       "      <td id=\"T_12871_row0_col3\" class=\"data row0 col3\" >0.0515606550</td>\n",
       "      <td id=\"T_12871_row0_col4\" class=\"data row0 col4\" >0.9844640240</td>\n",
       "      <td id=\"T_12871_row0_col5\" class=\"data row0 col5\" >0.0207806424</td>\n",
       "      <td id=\"T_12871_row0_col6\" class=\"data row0 col6\" >0.0268624873</td>\n",
       "      <td id=\"T_12871_row0_col7\" class=\"data row0 col7\" >0.0300000000</td>\n",
       "    </tr>\n",
       "    <tr>\n",
       "      <th id=\"T_12871_level0_row1\" class=\"row_heading level0 row1\" >gbr</th>\n",
       "      <td id=\"T_12871_row1_col0\" class=\"data row1 col0\" >Gradient Boosting Regressor</td>\n",
       "      <td id=\"T_12871_row1_col1\" class=\"data row1 col1\" >0.0426729833</td>\n",
       "      <td id=\"T_12871_row1_col2\" class=\"data row1 col2\" >0.0034066977</td>\n",
       "      <td id=\"T_12871_row1_col3\" class=\"data row1 col3\" >0.0543769749</td>\n",
       "      <td id=\"T_12871_row1_col4\" class=\"data row1 col4\" >0.9818044735</td>\n",
       "      <td id=\"T_12871_row1_col5\" class=\"data row1 col5\" >0.0222299311</td>\n",
       "      <td id=\"T_12871_row1_col6\" class=\"data row1 col6\" >0.0319599226</td>\n",
       "      <td id=\"T_12871_row1_col7\" class=\"data row1 col7\" >0.0160000000</td>\n",
       "    </tr>\n",
       "    <tr>\n",
       "      <th id=\"T_12871_level0_row2\" class=\"row_heading level0 row2\" >dt</th>\n",
       "      <td id=\"T_12871_row2_col0\" class=\"data row2 col0\" >Decision Tree Regressor</td>\n",
       "      <td id=\"T_12871_row2_col1\" class=\"data row2 col1\" >0.0415109180</td>\n",
       "      <td id=\"T_12871_row2_col2\" class=\"data row2 col2\" >0.0071571454</td>\n",
       "      <td id=\"T_12871_row2_col3\" class=\"data row2 col3\" >0.0599677552</td>\n",
       "      <td id=\"T_12871_row2_col4\" class=\"data row2 col4\" >0.9759371385</td>\n",
       "      <td id=\"T_12871_row2_col5\" class=\"data row2 col5\" >0.0258923695</td>\n",
       "      <td id=\"T_12871_row2_col6\" class=\"data row2 col6\" >0.0294315120</td>\n",
       "      <td id=\"T_12871_row2_col7\" class=\"data row2 col7\" >0.0060000000</td>\n",
       "    </tr>\n",
       "    <tr>\n",
       "      <th id=\"T_12871_level0_row3\" class=\"row_heading level0 row3\" >rf</th>\n",
       "      <td id=\"T_12871_row3_col0\" class=\"data row3 col0\" >Random Forest Regressor</td>\n",
       "      <td id=\"T_12871_row3_col1\" class=\"data row3 col1\" >0.0508064759</td>\n",
       "      <td id=\"T_12871_row3_col2\" class=\"data row3 col2\" >0.0076232392</td>\n",
       "      <td id=\"T_12871_row3_col3\" class=\"data row3 col3\" >0.0737702852</td>\n",
       "      <td id=\"T_12871_row3_col4\" class=\"data row3 col4\" >0.9663113018</td>\n",
       "      <td id=\"T_12871_row3_col5\" class=\"data row3 col5\" >0.0336048774</td>\n",
       "      <td id=\"T_12871_row3_col6\" class=\"data row3 col6\" >0.0425243320</td>\n",
       "      <td id=\"T_12871_row3_col7\" class=\"data row3 col7\" >0.0410000000</td>\n",
       "    </tr>\n",
       "    <tr>\n",
       "      <th id=\"T_12871_level0_row4\" class=\"row_heading level0 row4\" >ada</th>\n",
       "      <td id=\"T_12871_row4_col0\" class=\"data row4 col0\" >AdaBoost Regressor</td>\n",
       "      <td id=\"T_12871_row4_col1\" class=\"data row4 col1\" >0.0899167972</td>\n",
       "      <td id=\"T_12871_row4_col2\" class=\"data row4 col2\" >0.0159908422</td>\n",
       "      <td id=\"T_12871_row4_col3\" class=\"data row4 col3\" >0.1221195068</td>\n",
       "      <td id=\"T_12871_row4_col4\" class=\"data row4 col4\" >0.9135480238</td>\n",
       "      <td id=\"T_12871_row4_col5\" class=\"data row4 col5\" >0.0566247359</td>\n",
       "      <td id=\"T_12871_row4_col6\" class=\"data row4 col6\" >0.0766944749</td>\n",
       "      <td id=\"T_12871_row4_col7\" class=\"data row4 col7\" >0.0280000000</td>\n",
       "    </tr>\n",
       "    <tr>\n",
       "      <th id=\"T_12871_level0_row5\" class=\"row_heading level0 row5\" >knn</th>\n",
       "      <td id=\"T_12871_row5_col0\" class=\"data row5 col0\" >K Neighbors Regressor</td>\n",
       "      <td id=\"T_12871_row5_col1\" class=\"data row5 col1\" >0.1921196334</td>\n",
       "      <td id=\"T_12871_row5_col2\" class=\"data row5 col2\" >0.0839949736</td>\n",
       "      <td id=\"T_12871_row5_col3\" class=\"data row5 col3\" >0.2654879235</td>\n",
       "      <td id=\"T_12871_row5_col4\" class=\"data row5 col4\" >0.4149041382</td>\n",
       "      <td id=\"T_12871_row5_col5\" class=\"data row5 col5\" >0.1014313478</td>\n",
       "      <td id=\"T_12871_row5_col6\" class=\"data row5 col6\" >0.1340884041</td>\n",
       "      <td id=\"T_12871_row5_col7\" class=\"data row5 col7\" >0.0080000000</td>\n",
       "    </tr>\n",
       "    <tr>\n",
       "      <th id=\"T_12871_level0_row6\" class=\"row_heading level0 row6\" >lightgbm</th>\n",
       "      <td id=\"T_12871_row6_col0\" class=\"data row6 col0\" >Light Gradient Boosting Machine</td>\n",
       "      <td id=\"T_12871_row6_col1\" class=\"data row6 col1\" >0.2930248540</td>\n",
       "      <td id=\"T_12871_row6_col2\" class=\"data row6 col2\" >0.1358226358</td>\n",
       "      <td id=\"T_12871_row6_col3\" class=\"data row6 col3\" >0.3609918706</td>\n",
       "      <td id=\"T_12871_row6_col4\" class=\"data row6 col4\" >0.1863098465</td>\n",
       "      <td id=\"T_12871_row6_col5\" class=\"data row6 col5\" >0.1438793682</td>\n",
       "      <td id=\"T_12871_row6_col6\" class=\"data row6 col6\" >0.2221287663</td>\n",
       "      <td id=\"T_12871_row6_col7\" class=\"data row6 col7\" >7.8690000000</td>\n",
       "    </tr>\n",
       "    <tr>\n",
       "      <th id=\"T_12871_level0_row7\" class=\"row_heading level0 row7\" >ridge</th>\n",
       "      <td id=\"T_12871_row7_col0\" class=\"data row7 col0\" >Ridge Regression</td>\n",
       "      <td id=\"T_12871_row7_col1\" class=\"data row7 col1\" >0.3168113098</td>\n",
       "      <td id=\"T_12871_row7_col2\" class=\"data row7 col2\" >0.1722231075</td>\n",
       "      <td id=\"T_12871_row7_col3\" class=\"data row7 col3\" >0.3998223692</td>\n",
       "      <td id=\"T_12871_row7_col4\" class=\"data row7 col4\" >0.0713912735</td>\n",
       "      <td id=\"T_12871_row7_col5\" class=\"data row7 col5\" >0.1603339754</td>\n",
       "      <td id=\"T_12871_row7_col6\" class=\"data row7 col6\" >0.2362129480</td>\n",
       "      <td id=\"T_12871_row7_col7\" class=\"data row7 col7\" >0.0070000000</td>\n",
       "    </tr>\n",
       "    <tr>\n",
       "      <th id=\"T_12871_level0_row8\" class=\"row_heading level0 row8\" >lr</th>\n",
       "      <td id=\"T_12871_row8_col0\" class=\"data row8 col0\" >Linear Regression</td>\n",
       "      <td id=\"T_12871_row8_col1\" class=\"data row8 col1\" >0.3166895047</td>\n",
       "      <td id=\"T_12871_row8_col2\" class=\"data row8 col2\" >0.1722651690</td>\n",
       "      <td id=\"T_12871_row8_col3\" class=\"data row8 col3\" >0.3997930080</td>\n",
       "      <td id=\"T_12871_row8_col4\" class=\"data row8 col4\" >0.0712495577</td>\n",
       "      <td id=\"T_12871_row8_col5\" class=\"data row8 col5\" >0.1602981068</td>\n",
       "      <td id=\"T_12871_row8_col6\" class=\"data row8 col6\" >0.2359978884</td>\n",
       "      <td id=\"T_12871_row8_col7\" class=\"data row8 col7\" >0.2560000000</td>\n",
       "    </tr>\n",
       "    <tr>\n",
       "      <th id=\"T_12871_level0_row9\" class=\"row_heading level0 row9\" >lar</th>\n",
       "      <td id=\"T_12871_row9_col0\" class=\"data row9 col0\" >Least Angle Regression</td>\n",
       "      <td id=\"T_12871_row9_col1\" class=\"data row9 col1\" >0.3166895345</td>\n",
       "      <td id=\"T_12871_row9_col2\" class=\"data row9 col2\" >0.1722651869</td>\n",
       "      <td id=\"T_12871_row9_col3\" class=\"data row9 col3\" >0.3997930318</td>\n",
       "      <td id=\"T_12871_row9_col4\" class=\"data row9 col4\" >0.0712493630</td>\n",
       "      <td id=\"T_12871_row9_col5\" class=\"data row9 col5\" >0.1602981128</td>\n",
       "      <td id=\"T_12871_row9_col6\" class=\"data row9 col6\" >0.2359979168</td>\n",
       "      <td id=\"T_12871_row9_col7\" class=\"data row9 col7\" >0.0060000000</td>\n",
       "    </tr>\n",
       "    <tr>\n",
       "      <th id=\"T_12871_level0_row10\" class=\"row_heading level0 row10\" >br</th>\n",
       "      <td id=\"T_12871_row10_col0\" class=\"data row10 col0\" >Bayesian Ridge</td>\n",
       "      <td id=\"T_12871_row10_col1\" class=\"data row10 col1\" >0.3205553994</td>\n",
       "      <td id=\"T_12871_row10_col2\" class=\"data row10 col2\" >0.1729687683</td>\n",
       "      <td id=\"T_12871_row10_col3\" class=\"data row10 col3\" >0.4025573909</td>\n",
       "      <td id=\"T_12871_row10_col4\" class=\"data row10 col4\" >0.0663115864</td>\n",
       "      <td id=\"T_12871_row10_col5\" class=\"data row10 col5\" >0.1620774582</td>\n",
       "      <td id=\"T_12871_row10_col6\" class=\"data row10 col6\" >0.2421105221</td>\n",
       "      <td id=\"T_12871_row10_col7\" class=\"data row10 col7\" >0.0100000000</td>\n",
       "    </tr>\n",
       "    <tr>\n",
       "      <th id=\"T_12871_level0_row11\" class=\"row_heading level0 row11\" >omp</th>\n",
       "      <td id=\"T_12871_row11_col0\" class=\"data row11 col0\" >Orthogonal Matching Pursuit</td>\n",
       "      <td id=\"T_12871_row11_col1\" class=\"data row11 col1\" >0.3408691525</td>\n",
       "      <td id=\"T_12871_row11_col2\" class=\"data row11 col2\" >0.1791146435</td>\n",
       "      <td id=\"T_12871_row11_col3\" class=\"data row11 col3\" >0.4152799129</td>\n",
       "      <td id=\"T_12871_row11_col4\" class=\"data row11 col4\" >-0.0029515565</td>\n",
       "      <td id=\"T_12871_row11_col5\" class=\"data row11 col5\" >0.1688437596</td>\n",
       "      <td id=\"T_12871_row11_col6\" class=\"data row11 col6\" >0.2640752494</td>\n",
       "      <td id=\"T_12871_row11_col7\" class=\"data row11 col7\" >0.0080000000</td>\n",
       "    </tr>\n",
       "    <tr>\n",
       "      <th id=\"T_12871_level0_row12\" class=\"row_heading level0 row12\" >en</th>\n",
       "      <td id=\"T_12871_row12_col0\" class=\"data row12 col0\" >Elastic Net</td>\n",
       "      <td id=\"T_12871_row12_col1\" class=\"data row12 col1\" >0.3669124544</td>\n",
       "      <td id=\"T_12871_row12_col2\" class=\"data row12 col2\" >0.2067701519</td>\n",
       "      <td id=\"T_12871_row12_col3\" class=\"data row12 col3\" >0.4460021466</td>\n",
       "      <td id=\"T_12871_row12_col4\" class=\"data row12 col4\" >-0.0593358145</td>\n",
       "      <td id=\"T_12871_row12_col5\" class=\"data row12 col5\" >0.1840440512</td>\n",
       "      <td id=\"T_12871_row12_col6\" class=\"data row12 col6\" >0.2990886837</td>\n",
       "      <td id=\"T_12871_row12_col7\" class=\"data row12 col7\" >0.0110000000</td>\n",
       "    </tr>\n",
       "    <tr>\n",
       "      <th id=\"T_12871_level0_row13\" class=\"row_heading level0 row13\" >huber</th>\n",
       "      <td id=\"T_12871_row13_col0\" class=\"data row13 col0\" >Huber Regressor</td>\n",
       "      <td id=\"T_12871_row13_col1\" class=\"data row13 col1\" >0.2590108177</td>\n",
       "      <td id=\"T_12871_row13_col2\" class=\"data row13 col2\" >0.2167721115</td>\n",
       "      <td id=\"T_12871_row13_col3\" class=\"data row13 col3\" >0.4130726180</td>\n",
       "      <td id=\"T_12871_row13_col4\" class=\"data row13 col4\" >-0.1652858705</td>\n",
       "      <td id=\"T_12871_row13_col5\" class=\"data row13 col5\" >0.1636075080</td>\n",
       "      <td id=\"T_12871_row13_col6\" class=\"data row13 col6\" >0.1562093256</td>\n",
       "      <td id=\"T_12871_row13_col7\" class=\"data row13 col7\" >0.0070000000</td>\n",
       "    </tr>\n",
       "    <tr>\n",
       "      <th id=\"T_12871_level0_row14\" class=\"row_heading level0 row14\" >lasso</th>\n",
       "      <td id=\"T_12871_row14_col0\" class=\"data row14 col0\" >Lasso Regression</td>\n",
       "      <td id=\"T_12871_row14_col1\" class=\"data row14 col1\" >0.3967622921</td>\n",
       "      <td id=\"T_12871_row14_col2\" class=\"data row14 col2\" >0.2339634590</td>\n",
       "      <td id=\"T_12871_row14_col3\" class=\"data row14 col3\" >0.4740842134</td>\n",
       "      <td id=\"T_12871_row14_col4\" class=\"data row14 col4\" >-0.1742624373</td>\n",
       "      <td id=\"T_12871_row14_col5\" class=\"data row14 col5\" >0.1961066484</td>\n",
       "      <td id=\"T_12871_row14_col6\" class=\"data row14 col6\" >0.3272473946</td>\n",
       "      <td id=\"T_12871_row14_col7\" class=\"data row14 col7\" >0.0070000000</td>\n",
       "    </tr>\n",
       "    <tr>\n",
       "      <th id=\"T_12871_level0_row15\" class=\"row_heading level0 row15\" >llar</th>\n",
       "      <td id=\"T_12871_row15_col0\" class=\"data row15 col0\" >Lasso Least Angle Regression</td>\n",
       "      <td id=\"T_12871_row15_col1\" class=\"data row15 col1\" >0.3967622921</td>\n",
       "      <td id=\"T_12871_row15_col2\" class=\"data row15 col2\" >0.2339634590</td>\n",
       "      <td id=\"T_12871_row15_col3\" class=\"data row15 col3\" >0.4740842134</td>\n",
       "      <td id=\"T_12871_row15_col4\" class=\"data row15 col4\" >-0.1742624373</td>\n",
       "      <td id=\"T_12871_row15_col5\" class=\"data row15 col5\" >0.1961066484</td>\n",
       "      <td id=\"T_12871_row15_col6\" class=\"data row15 col6\" >0.3272473946</td>\n",
       "      <td id=\"T_12871_row15_col7\" class=\"data row15 col7\" >0.0060000000</td>\n",
       "    </tr>\n",
       "    <tr>\n",
       "      <th id=\"T_12871_level0_row16\" class=\"row_heading level0 row16\" >dummy</th>\n",
       "      <td id=\"T_12871_row16_col0\" class=\"data row16 col0\" >Dummy Regressor</td>\n",
       "      <td id=\"T_12871_row16_col1\" class=\"data row16 col1\" >0.3967622921</td>\n",
       "      <td id=\"T_12871_row16_col2\" class=\"data row16 col2\" >0.2339634590</td>\n",
       "      <td id=\"T_12871_row16_col3\" class=\"data row16 col3\" >0.4740842134</td>\n",
       "      <td id=\"T_12871_row16_col4\" class=\"data row16 col4\" >-0.1742624373</td>\n",
       "      <td id=\"T_12871_row16_col5\" class=\"data row16 col5\" >0.1961066484</td>\n",
       "      <td id=\"T_12871_row16_col6\" class=\"data row16 col6\" >0.3272473946</td>\n",
       "      <td id=\"T_12871_row16_col7\" class=\"data row16 col7\" >0.0070000000</td>\n",
       "    </tr>\n",
       "    <tr>\n",
       "      <th id=\"T_12871_level0_row17\" class=\"row_heading level0 row17\" >par</th>\n",
       "      <td id=\"T_12871_row17_col0\" class=\"data row17 col0\" >Passive Aggressive Regressor</td>\n",
       "      <td id=\"T_12871_row17_col1\" class=\"data row17 col1\" >0.3349694610</td>\n",
       "      <td id=\"T_12871_row17_col2\" class=\"data row17 col2\" >0.2242160707</td>\n",
       "      <td id=\"T_12871_row17_col3\" class=\"data row17 col3\" >0.4452669257</td>\n",
       "      <td id=\"T_12871_row17_col4\" class=\"data row17 col4\" >-0.3966945021</td>\n",
       "      <td id=\"T_12871_row17_col5\" class=\"data row17 col5\" >0.1740545280</td>\n",
       "      <td id=\"T_12871_row17_col6\" class=\"data row17 col6\" >0.2255631719</td>\n",
       "      <td id=\"T_12871_row17_col7\" class=\"data row17 col7\" >0.0080000000</td>\n",
       "    </tr>\n",
       "  </tbody>\n",
       "</table>\n"
      ],
      "text/plain": [
       "<pandas.io.formats.style.Styler at 0x77a0f29cca90>"
      ]
     },
     "metadata": {},
     "output_type": "display_data"
    },
    {
     "data": {
      "text/html": [],
      "text/plain": [
       "<IPython.core.display.HTML object>"
      ]
     },
     "metadata": {},
     "output_type": "display_data"
    }
   ],
   "source": [
    "import pycaret.regression as reg\n",
    "\n",
    "reg = reg.setup(\n",
    "    data=data,\n",
    "    target=\"VIS*\",\n",
    "    numeric_features=[\"T*\", \"P*\"],\n",
    "    ignore_features=[\"TCX*\"],\n",
    "    session_id=123,\n",
    "    verbose=False,\n",
    ")\n",
    "best = reg.compare_models(round=10)"
   ]
  },
  {
   "cell_type": "markdown",
   "id": "73a176ee",
   "metadata": {},
   "source": [
    "## 📈 Analysis"
   ]
  },
  {
   "cell_type": "code",
   "execution_count": 8,
   "id": "e224d254",
   "metadata": {},
   "outputs": [
    {
     "data": {
      "text/html": [],
      "text/plain": [
       "<IPython.core.display.HTML object>"
      ]
     },
     "metadata": {},
     "output_type": "display_data"
    },
    {
     "data": {
      "image/png": "[encoded data removed]",
      "text/plain": [
       "<Figure size 800x550 with 1 Axes>"
      ]
     },
     "metadata": {},
     "output_type": "display_data"
    }
   ],
   "source": [
    "reg.plot_model(best, plot=\"error\")"
   ]
  },
  {
   "cell_type": "code",
   "execution_count": 9,
   "id": "c9ace00c",
   "metadata": {},
   "outputs": [
    {
     "data": {
      "text/html": [],
      "text/plain": [
       "<IPython.core.display.HTML object>"
      ]
     },
     "metadata": {},
     "output_type": "display_data"
    },
    {
     "data": {
      "image/png": "[encoded data removed]",
      "text/plain": [
       "<Figure size 800x500 with 1 Axes>"
      ]
     },
     "metadata": {},
     "output_type": "display_data"
    }
   ],
   "source": [
    "reg.plot_model(best, plot=\"feature\")"
   ]
  }
 ],
 "metadata": {
  "kernelspec": {
   "display_name": "mdmlprop-env",
   "language": "python",
   "name": "python3"
  },
  "language_info": {
   "codemirror_mode": {
    "name": "ipython",
    "version": 3
   },
   "file_extension": ".py",
   "mimetype": "text/x-python",
   "name": "python",
   "nbconvert_exporter": "python",
   "pygments_lexer": "ipython3",
   "version": "3.11.11"
  }
 },
 "nbformat": 4,
 "nbformat_minor": 5
}
